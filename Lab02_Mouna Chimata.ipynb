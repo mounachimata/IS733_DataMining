{
 "cells": [
  {
   "cell_type": "code",
   "execution_count": 1,
   "id": "2771943b",
   "metadata": {},
   "outputs": [
    {
     "name": "stdout",
     "output_type": "stream",
     "text": [
      "                    Column Name Data Type  Unique Values    Min       Max\n",
      "0                   Sample code     int64            645  61634  13454352\n",
      "1               Clump Thickness     int64             10      1        10\n",
      "2       Uniformity of Cell Size     int64             10      1        10\n",
      "3      Uniformity of Cell Shape     int64             10      1        10\n",
      "4             Marginal Adhesion     int64             10      1        10\n",
      "5   Single Epithelial Cell Size     int64             10      1        10\n",
      "6                   Bare Nuclei    object             11    N/A       N/A\n",
      "7               Bland Chromatin     int64             10      1        10\n",
      "8               Normal Nucleoli     int64             10      1        10\n",
      "9                       Mitoses     int64              9      1        10\n",
      "10                        Class     int64              2      2         4\n"
     ]
    }
   ],
   "source": [
    "import pandas as pd\n",
    "\n",
    "# Load the breast cancer data from the CSV file\n",
    "data = pd.read_csv('breast_cancer.csv')\n",
    "\n",
    "# Specify the columns for which you want to create the profile\n",
    "columns_of_interest = ['Sample code', 'Clump Thickness', 'Uniformity of Cell Size',\n",
    "                       'Uniformity of Cell Shape', 'Marginal Adhesion', 'Single Epithelial Cell Size',\n",
    "                       'Bare Nuclei', 'Bland Chromatin', 'Normal Nucleoli', 'Mitoses', 'Class']\n",
    "\n",
    "# Initialize an empty list to store dictionaries\n",
    "profile_data = []\n",
    "\n",
    "# Iterate through the columns and populate the profile data list\n",
    "for column in columns_of_interest:\n",
    "    data_type = data[column].dtype\n",
    "    unique_values = data[column].nunique()\n",
    "    \n",
    "    # Convert the column to string type and then check for missing values\n",
    "    if \"?\" in data[column].astype(str).values:\n",
    "        min_value = 'N/A'\n",
    "        max_value = 'N/A'\n",
    "    else:\n",
    "        min_value = data[column].min()\n",
    "        max_value = data[column].max()\n",
    "    \n",
    "    # Append the information as a dictionary to the list\n",
    "    profile_data.append({'Column Name': column,\n",
    "                         'Data Type': data_type,\n",
    "                         'Unique Values': unique_values,\n",
    "                         'Min': min_value,\n",
    "                         'Max': max_value})\n",
    "\n",
    "# Create the profile table DataFrame by concatenating the dictionaries\n",
    "profile_table = pd.DataFrame(profile_data)\n",
    "\n",
    "# Display the profile table\n",
    "print(profile_table)\n"
   ]
  },
  {
   "cell_type": "code",
   "execution_count": 4,
   "id": "9c3fb0e0",
   "metadata": {},
   "outputs": [
    {
     "name": "stdout",
     "output_type": "stream",
     "text": [
      "Index(['work_year', 'experience_level', 'employment_type', 'job_title',\n",
      "       'salary', 'salary_currency', 'salary_in_usd', 'employee_residence',\n",
      "       'remote_ratio', 'company_location', 'company_size'],\n",
      "      dtype='object')\n"
     ]
    }
   ],
   "source": [
    "import pandas as pd\n",
    "\n",
    "# Load the CSV file\n",
    "data = pd.read_csv('ds_salaries.csv')\n",
    "\n",
    "# Get the names of all columns\n",
    "column_names = data.columns\n",
    "\n",
    "# Print the column names\n",
    "print(column_names)\n"
   ]
  },
  {
   "cell_type": "code",
   "execution_count": 10,
   "id": "274d467d",
   "metadata": {},
   "outputs": [
    {
     "name": "stdout",
     "output_type": "stream",
     "text": [
      "           Column Name Data Type  Unique Values  \\\n",
      "0            work_year     int64              4   \n",
      "1     experience_level    object              4   \n",
      "2      employment_type    object              4   \n",
      "3            job_title    object             93   \n",
      "4               salary     int64            815   \n",
      "5      salary_currency    object             20   \n",
      "6        salary_in_usd     int64           1035   \n",
      "7   employee_residence    object             78   \n",
      "8         remote_ratio     int64              3   \n",
      "9     company_location    object             72   \n",
      "10        company_size    object              3   \n",
      "\n",
      "                              Min                   Max  \n",
      "0                            2020                  2023  \n",
      "1                              EN                    SE  \n",
      "2                              CT                    PT  \n",
      "3   3D Computer Vision Researcher  Staff Data Scientist  \n",
      "4                            6000              30400000  \n",
      "5                             AUD                   USD  \n",
      "6                            5132                450000  \n",
      "7                              AE                    VN  \n",
      "8                               0                   100  \n",
      "9                              AE                    VN  \n",
      "10                              L                     S  \n"
     ]
    }
   ],
   "source": [
    "import pandas as pd\n",
    "\n",
    "# Load the  data from the CSV file\n",
    "data = pd.read_csv('ds_salaries.csv')\n",
    "\n",
    "# Specify the columns for which you want to create the profile\n",
    "\n",
    "columns_of_interest = ['work_year', 'experience_level', 'employment_type', 'job_title',\n",
    "       'salary', 'salary_currency', 'salary_in_usd', 'employee_residence',\n",
    "       'remote_ratio', 'company_location', 'company_size']\n",
    "\n",
    "# Initialize an empty list to store dictionaries\n",
    "profile_data = []\n",
    "\n",
    "# Iterate through the columns and populate the profile data list\n",
    "for column in columns_of_interest:\n",
    "    data_type = data[column].dtype\n",
    "    unique_values = data[column].nunique()\n",
    "    \n",
    "    # Convert the column to string type and then check for missing values\n",
    "    if \"?\" in data[column].astype(str).values:\n",
    "        min_value = 'N/A'\n",
    "        max_value = 'N/A'\n",
    "    else:\n",
    "        min_value = data[column].min()\n",
    "        max_value = data[column].max()\n",
    "    \n",
    "    # Append the information as a dictionary to the list\n",
    "    profile_data.append({'Column Name': column,\n",
    "                         'Data Type': data_type,\n",
    "                         'Unique Values': unique_values,\n",
    "                         'Min': min_value,\n",
    "                         'Max': max_value})\n",
    "\n",
    "# Create the profile table DataFrame by concatenating the dictionaries\n",
    "profile_table = pd.DataFrame(profile_data)\n",
    "\n",
    "# Display the profile table\n",
    "print(profile_table)\n",
    "\n",
    "\n"
   ]
  },
  {
   "cell_type": "code",
   "execution_count": 12,
   "id": "8712fe3d",
   "metadata": {},
   "outputs": [
    {
     "name": "stdout",
     "output_type": "stream",
     "text": [
      "      work_year experience_level employment_type                 job_title  \\\n",
      "0          2023               SE              FT  Principal Data Scientist   \n",
      "1          2023               MI              CT               ML Engineer   \n",
      "2          2023               MI              CT               ML Engineer   \n",
      "3          2023               SE              FT            Data Scientist   \n",
      "4          2023               SE              FT            Data Scientist   \n",
      "...         ...              ...             ...                       ...   \n",
      "3750       2020               SE              FT            Data Scientist   \n",
      "3751       2021               MI              FT  Principal Data Scientist   \n",
      "3752       2020               EN              FT            Data Scientist   \n",
      "3753       2020               EN              CT     Business Data Analyst   \n",
      "3754       2021               SE              FT      Data Science Manager   \n",
      "\n",
      "       salary  salary_in_usd employee_residence  remote_ratio  \\\n",
      "0       80000          85847                 ES           100   \n",
      "1       30000          30000                 US           100   \n",
      "2       25500          25500                 US           100   \n",
      "3      175000         175000                 CA           100   \n",
      "4      120000         120000                 CA           100   \n",
      "...       ...            ...                ...           ...   \n",
      "3750   412000         412000                 US           100   \n",
      "3751   151000         151000                 US           100   \n",
      "3752   105000         105000                 US           100   \n",
      "3753   100000         100000                 US           100   \n",
      "3754  7000000          94665                 IN            50   \n",
      "\n",
      "     company_location company_size  \n",
      "0                  ES            L  \n",
      "1                  US            S  \n",
      "2                  US            S  \n",
      "3                  CA            M  \n",
      "4                  CA            M  \n",
      "...               ...          ...  \n",
      "3750               US            L  \n",
      "3751               US            L  \n",
      "3752               US            S  \n",
      "3753               US            L  \n",
      "3754               IN            L  \n",
      "\n",
      "[3755 rows x 10 columns]\n"
     ]
    }
   ],
   "source": [
    "# Assuming 'data' is your DataFrame with the 'salary_currency' column\n",
    "data.drop(columns=['salary_currency'], inplace=True)\n",
    "\n",
    "# Print the updated DataFrame\n",
    "print(data)"
   ]
  },
  {
   "cell_type": "code",
   "execution_count": null,
   "id": "361fd3d1",
   "metadata": {},
   "outputs": [],
   "source": []
  }
 ],
 "metadata": {
  "kernelspec": {
   "display_name": "Python 3 (ipykernel)",
   "language": "python",
   "name": "python3"
  },
  "language_info": {
   "codemirror_mode": {
    "name": "ipython",
    "version": 3
   },
   "file_extension": ".py",
   "mimetype": "text/x-python",
   "name": "python",
   "nbconvert_exporter": "python",
   "pygments_lexer": "ipython3",
   "version": "3.11.4"
  }
 },
 "nbformat": 4,
 "nbformat_minor": 5
}
